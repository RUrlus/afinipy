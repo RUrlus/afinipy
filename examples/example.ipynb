{
 "cells": [
  {
   "cell_type": "code",
   "execution_count": null,
   "metadata": {},
   "outputs": [],
   "source": [
    "from afinipy.base import Afinipy"
   ]
  },
  {
   "cell_type": "markdown",
   "metadata": {},
   "source": [
    "# Afinipy examples\n",
    "\n",
    "This notebook contains six examples of how one could run afinipy.\n",
    "\n",
    "The dry_run option only prints the __init__'s"
   ]
  },
  {
   "cell_type": "markdown",
   "metadata": {},
   "source": [
    "## Recursive folder structure"
   ]
  },
  {
   "cell_type": "markdown",
   "metadata": {},
   "source": [
    "### Package name"
   ]
  },
  {
   "cell_type": "code",
   "execution_count": null,
   "metadata": {},
   "outputs": [],
   "source": [
    "root = '/users/rurlus/Projects/ulibs/afinipy/examples/recursive_example'\n",
    "base = Afinipy(root, package='wrutils', mode='recursive')\n",
    "base.build_init(dry_run=True)"
   ]
  },
  {
   "cell_type": "markdown",
   "metadata": {},
   "source": [
    "### No package name"
   ]
  },
  {
   "cell_type": "code",
   "execution_count": null,
   "metadata": {},
   "outputs": [],
   "source": [
    "root = '/users/rurlus/Projects/ulibs/afinipy/examples/recursive_example'\n",
    "base = Afinipy(root, mode='recursive')\n",
    "base.build_init(dry_run=True)"
   ]
  },
  {
   "cell_type": "markdown",
   "metadata": {},
   "source": [
    "### As top level"
   ]
  },
  {
   "cell_type": "code",
   "execution_count": null,
   "metadata": {},
   "outputs": [],
   "source": [
    "root = '/users/rurlus/Projects/ulibs/afinipy/examples/recursive_example'\n",
    "base = Afinipy(root, package='wrutils', mode='top_level')\n",
    "base.build_init(dry_run=True)"
   ]
  },
  {
   "cell_type": "code",
   "execution_count": null,
   "metadata": {},
   "outputs": [],
   "source": [
    "root = '/users/rurlus/Projects/ulibs/afinipy/examples/recursive_example'\n",
    "base = Afinipy(\n",
    "    root,\n",
    "    package='wrutils',\n",
    "    mode='top_level',\n",
    "    exclusion_path='/users/rurlus/Projects/ulibs/afinipy/examples/.exclude'\n",
    ")\n",
    "base.build_init(dry_run=True)"
   ]
  },
  {
   "cell_type": "markdown",
   "metadata": {},
   "source": [
    "## Top level"
   ]
  },
  {
   "cell_type": "markdown",
   "metadata": {},
   "source": [
    "### Package name"
   ]
  },
  {
   "cell_type": "code",
   "execution_count": null,
   "metadata": {},
   "outputs": [],
   "source": [
    "root = '/users/rurlus/Projects/ulibs/afinipy/examples/top_level_example'\n",
    "base = Afinipy(root, package='wrutils', mode='top_level')\n",
    "base.build_init(dry_run=True)"
   ]
  },
  {
   "cell_type": "markdown",
   "metadata": {},
   "source": [
    "### No package name"
   ]
  },
  {
   "cell_type": "code",
   "execution_count": null,
   "metadata": {},
   "outputs": [],
   "source": [
    "root = '/users/rurlus/Projects/ulibs/afinipy/examples/top_level_example'\n",
    "base = Afinipy(root, mode='top_level')\n",
    "base.build_init(dry_run=True)"
   ]
  },
  {
   "cell_type": "markdown",
   "metadata": {},
   "source": [
    "### As recursive"
   ]
  },
  {
   "cell_type": "code",
   "execution_count": null,
   "metadata": {},
   "outputs": [],
   "source": [
    "root = '/users/rurlus/Projects/ulibs/afinipy/examples/top_level_example'\n",
    "base = Afinipy(root, mode='recursive')\n",
    "base.build_init(dry_run=True)"
   ]
  },
  {
   "cell_type": "markdown",
   "metadata": {},
   "source": [
    "### Exclude files"
   ]
  },
  {
   "cell_type": "code",
   "execution_count": null,
   "metadata": {},
   "outputs": [],
   "source": [
    "root = '/users/rurlus/Projects/ulibs/afinipy/examples/top_level_example'\n",
    "base = Afinipy(\n",
    "    root,\n",
    "    mode='recursive',\n",
    "    exclusion_path='/users/rurlus/Projects/ulibs/afinipy/examples/.exclude'\n",
    ")\n",
    "base.build_init(dry_run=True)"
   ]
  }
 ],
 "metadata": {
  "kernelspec": {
   "display_name": "Python 3",
   "language": "python",
   "name": "python3"
  },
  "language_info": {
   "codemirror_mode": {
    "name": "ipython",
    "version": 3
   },
   "file_extension": ".py",
   "mimetype": "text/x-python",
   "name": "python",
   "nbconvert_exporter": "python",
   "pygments_lexer": "ipython3",
   "version": "3.7.0"
  }
 },
 "nbformat": 4,
 "nbformat_minor": 2
}
